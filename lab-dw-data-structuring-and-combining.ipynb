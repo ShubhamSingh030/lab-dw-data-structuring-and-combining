{
 "cells": [
  {
   "cell_type": "markdown",
   "id": "25d7736c-ba17-4aff-b6bb-66eba20fbf4e",
   "metadata": {
    "id": "25d7736c-ba17-4aff-b6bb-66eba20fbf4e"
   },
   "source": [
    "# Lab | Data Structuring and Combining Data"
   ]
  },
  {
   "cell_type": "markdown",
   "id": "a2cdfc70-44c8-478c-81e7-2bc43fdf4986",
   "metadata": {
    "id": "a2cdfc70-44c8-478c-81e7-2bc43fdf4986"
   },
   "source": [
    "## Challenge 1: Combining & Cleaning Data\n",
    "\n",
    "In this challenge, we will be working with the customer data from an insurance company, as we did in the two previous labs. The data can be found here:\n",
    "- https://raw.githubusercontent.com/data-bootcamp-v4/data/main/file1.csv\n",
    "\n",
    "But this time, we got new data, which can be found in the following 2 CSV files located at the links below.\n",
    "\n",
    "- https://raw.githubusercontent.com/data-bootcamp-v4/data/main/file2.csv\n",
    "- https://raw.githubusercontent.com/data-bootcamp-v4/data/main/file3.csv\n",
    "\n",
    "Note that you'll need to clean and format the new data.\n",
    "\n",
    "Observation:\n",
    "- One option is to first combine the three datasets and then apply the cleaning function to the new combined dataset\n",
    "- Another option would be to read the clean file you saved in the previous lab, and just clean the two new files and concatenate the three clean datasets"
   ]
  },
  {
   "cell_type": "markdown",
   "id": "31b8a9e7-7db9-4604-991b-ef6771603e57",
   "metadata": {
    "id": "31b8a9e7-7db9-4604-991b-ef6771603e57"
   },
   "source": [
    "# Challenge 2: Structuring Data"
   ]
  },
  {
   "cell_type": "code",
   "execution_count": 3,
   "id": "55461847",
   "metadata": {},
   "outputs": [],
   "source": [
    "import pandas as pd"
   ]
  },
  {
   "cell_type": "code",
   "execution_count": 4,
   "id": "e0995447",
   "metadata": {},
   "outputs": [],
   "source": [
    "url1 = 'https://raw.githubusercontent.com/data-bootcamp-v4/data/main/file1.csv'\n",
    "url2 = 'https://raw.githubusercontent.com/data-bootcamp-v4/data/main/file2.csv'\n",
    "url3 = 'https://raw.githubusercontent.com/data-bootcamp-v4/data/main/file3.csv'\n",
    "df1 = pd.read_csv(url1)\n",
    "df2 = pd.read_csv(url2)\n",
    "df3 = pd.read_csv(url3)\n"
   ]
  },
  {
   "cell_type": "code",
   "execution_count": 5,
   "id": "66527b07",
   "metadata": {},
   "outputs": [
    {
     "name": "stdout",
     "output_type": "stream",
     "text": [
      "     Customer          ST GENDER             Education  \\\n",
      "0     RB50392  Washington    NaN                Master   \n",
      "1     QZ44356     Arizona      F              Bachelor   \n",
      "2     AI49188      Nevada      F              Bachelor   \n",
      "3     WW63253  California      M              Bachelor   \n",
      "4     GA49547  Washington      M  High School or Below   \n",
      "...       ...         ...    ...                   ...   \n",
      "7065  LA72316         NaN    NaN              Bachelor   \n",
      "7066  PK87824         NaN    NaN               College   \n",
      "7067  TD14365         NaN    NaN              Bachelor   \n",
      "7068  UP19263         NaN    NaN               College   \n",
      "7069  Y167826         NaN    NaN               College   \n",
      "\n",
      "     Customer Lifetime Value   Income  Monthly Premium Auto  \\\n",
      "0                        NaN      0.0                1000.0   \n",
      "1                 697953.59%      0.0                  94.0   \n",
      "2                1288743.17%  48767.0                 108.0   \n",
      "3                 764586.18%      0.0                 106.0   \n",
      "4                 536307.65%  36357.0                  68.0   \n",
      "...                      ...      ...                   ...   \n",
      "7065             23405.98798  71941.0                  73.0   \n",
      "7066             3096.511217  21604.0                  79.0   \n",
      "7067             8163.890428      0.0                  85.0   \n",
      "7068             7524.442436  21941.0                  96.0   \n",
      "7069             2611.836866      0.0                  77.0   \n",
      "\n",
      "     Number of Open Complaints     Policy Type  Vehicle Class  \\\n",
      "0                       1/0/00   Personal Auto  Four-Door Car   \n",
      "1                       1/0/00   Personal Auto  Four-Door Car   \n",
      "2                       1/0/00   Personal Auto   Two-Door Car   \n",
      "3                       1/0/00  Corporate Auto            SUV   \n",
      "4                       1/0/00   Personal Auto  Four-Door Car   \n",
      "...                        ...             ...            ...   \n",
      "7065                         0   Personal Auto  Four-Door Car   \n",
      "7066                         0  Corporate Auto  Four-Door Car   \n",
      "7067                         3  Corporate Auto  Four-Door Car   \n",
      "7068                         0   Personal Auto  Four-Door Car   \n",
      "7069                         0  Corporate Auto   Two-Door Car   \n",
      "\n",
      "      Total Claim Amount       State Gender  \n",
      "0               2.704934         NaN    NaN  \n",
      "1            1131.464935         NaN    NaN  \n",
      "2             566.472247         NaN    NaN  \n",
      "3             529.881344         NaN    NaN  \n",
      "4              17.269323         NaN    NaN  \n",
      "...                  ...         ...    ...  \n",
      "7065          198.234764  California      M  \n",
      "7066          379.200000  California      F  \n",
      "7067          790.784983  California      M  \n",
      "7068          691.200000  California      M  \n",
      "7069          369.600000  California      M  \n",
      "\n",
      "[12074 rows x 13 columns]\n"
     ]
    }
   ],
   "source": [
    "# Step 3: Combine the datasets\n",
    "df_combined = pd.concat([df1, df2, df3])\n",
    "print(df_combined)\n"
   ]
  },
  {
   "cell_type": "code",
   "execution_count": 6,
   "id": "c98a0236",
   "metadata": {},
   "outputs": [
    {
     "name": "stdout",
     "output_type": "stream",
     "text": [
      "     Customer          ST GENDER             Education  \\\n",
      "0     RB50392  Washington    NaN                Master   \n",
      "1     QZ44356     Arizona      F              Bachelor   \n",
      "2     AI49188      Nevada      F              Bachelor   \n",
      "3     WW63253  California      M              Bachelor   \n",
      "4     GA49547  Washington      M  High School or Below   \n",
      "...       ...         ...    ...                   ...   \n",
      "7065  LA72316         NaN    NaN              Bachelor   \n",
      "7066  PK87824         NaN    NaN               College   \n",
      "7067  TD14365         NaN    NaN              Bachelor   \n",
      "7068  UP19263         NaN    NaN               College   \n",
      "7069  Y167826         NaN    NaN               College   \n",
      "\n",
      "     Customer Lifetime Value   Income  Monthly Premium Auto  \\\n",
      "0                        NaN      0.0                1000.0   \n",
      "1                 697953.59%      0.0                  94.0   \n",
      "2                1288743.17%  48767.0                 108.0   \n",
      "3                 764586.18%      0.0                 106.0   \n",
      "4                 536307.65%  36357.0                  68.0   \n",
      "...                      ...      ...                   ...   \n",
      "7065             23405.98798  71941.0                  73.0   \n",
      "7066             3096.511217  21604.0                  79.0   \n",
      "7067             8163.890428      0.0                  85.0   \n",
      "7068             7524.442436  21941.0                  96.0   \n",
      "7069             2611.836866      0.0                  77.0   \n",
      "\n",
      "     Number of Open Complaints     Policy Type  Vehicle Class  \\\n",
      "0                       1/0/00   Personal Auto  Four-Door Car   \n",
      "1                       1/0/00   Personal Auto  Four-Door Car   \n",
      "2                       1/0/00   Personal Auto   Two-Door Car   \n",
      "3                       1/0/00  Corporate Auto            SUV   \n",
      "4                       1/0/00   Personal Auto  Four-Door Car   \n",
      "...                        ...             ...            ...   \n",
      "7065                         0   Personal Auto  Four-Door Car   \n",
      "7066                         0  Corporate Auto  Four-Door Car   \n",
      "7067                         3  Corporate Auto  Four-Door Car   \n",
      "7068                         0   Personal Auto  Four-Door Car   \n",
      "7069                         0  Corporate Auto   Two-Door Car   \n",
      "\n",
      "      Total Claim Amount       State Gender  \n",
      "0               2.704934         NaN    NaN  \n",
      "1            1131.464935         NaN    NaN  \n",
      "2             566.472247         NaN    NaN  \n",
      "3             529.881344         NaN    NaN  \n",
      "4              17.269323         NaN    NaN  \n",
      "...                  ...         ...    ...  \n",
      "7065          198.234764  California      M  \n",
      "7066          379.200000  California      F  \n",
      "7067          790.784983  California      M  \n",
      "7068          691.200000  California      M  \n",
      "7069          369.600000  California      M  \n",
      "\n",
      "[12074 rows x 13 columns]\n"
     ]
    }
   ],
   "source": [
    "# Step 4: Clean and structure the data\n",
    "print(df_combined)"
   ]
  },
  {
   "cell_type": "markdown",
   "id": "a877fd6d-7a0c-46d2-9657-f25036e4ca4b",
   "metadata": {
    "id": "a877fd6d-7a0c-46d2-9657-f25036e4ca4b"
   },
   "source": [
    "In this challenge, we will continue to work with customer data from an insurance company, but we will use a dataset with more columns, called marketing_customer_analysis.csv, which can be found at the following link:\n",
    "\n",
    "https://raw.githubusercontent.com/data-bootcamp-v4/data/main/marketing_customer_analysis_clean.csv\n",
    "\n",
    "This dataset contains information such as customer demographics, policy details, vehicle information, and the customer's response to the last marketing campaign. Our goal is to explore and analyze this data by performing data cleaning, formatting, and structuring."
   ]
  },
  {
   "cell_type": "code",
   "execution_count": 8,
   "id": "e6771917",
   "metadata": {},
   "outputs": [],
   "source": [
    "# In this challenge, we will continue to work with customer data from an insurance company, but we will use a dataset with more columns, called marketing_customer_analysis.csv, which can be found at the following link:\n",
    "\n",
    "# https://raw.githubusercontent.com/data-bootcamp-v4/data/main/marketing_customer_analysis_clean.csv\n",
    "\n",
    "# This dataset contains information such as customer demographics, policy details, vehicle information, and the customer's response to the last marketing campaign. Our goal is to explore and analyze this data by performing data cleaning, formatting, and structuring.\n",
    "\n",
    "# The steps to complete this challenge are as follow"
   ]
  },
  {
   "cell_type": "code",
   "execution_count": 9,
   "id": "aa10d9b0-1c27-4d3f-a8e4-db6ab73bfd26",
   "metadata": {
    "id": "aa10d9b0-1c27-4d3f-a8e4-db6ab73bfd26"
   },
   "outputs": [],
   "source": [
    "#   Step 1: Load the data\n",
    "#   Step 2: Explore the data\n",
    "#   Step 3: Clean and structure the data\n",
    "#   Step 4: Save the data\n",
    "#   Step 5: Visualize the data\n",
    "#   Step 6: Summarize the insights\n"
   ]
  },
  {
   "cell_type": "code",
   "execution_count": 10,
   "id": "c401d108",
   "metadata": {},
   "outputs": [],
   "source": [
    "# Step 1: Load the data\n",
    "import pandas as pd"
   ]
  },
  {
   "cell_type": "code",
   "execution_count": 11,
   "id": "b81f1c3d",
   "metadata": {},
   "outputs": [],
   "source": [
    "url = 'https://raw.githubusercontent.com/data-bootcamp-v4/data/main/marketing_customer_analysis_clean.csv'\n",
    "df = pd.read_csv(url)\n"
   ]
  },
  {
   "cell_type": "code",
   "execution_count": 12,
   "id": "7e053cc9",
   "metadata": {},
   "outputs": [
    {
     "name": "stdout",
     "output_type": "stream",
     "text": [
      "   unnamed:_0 customer       state  customer_lifetime_value response  \\\n",
      "0           0  DK49336     Arizona              4809.216960       No   \n",
      "1           1  KX64629  California              2228.525238       No   \n",
      "2           2  LZ68649  Washington             14947.917300       No   \n",
      "3           3  XL78013      Oregon             22332.439460      Yes   \n",
      "4           4  QA50777      Oregon              9025.067525       No   \n",
      "\n",
      "   coverage education effective_to_date employmentstatus gender  ...  \\\n",
      "0     Basic   College        2011-02-18         Employed      M  ...   \n",
      "1     Basic   College        2011-01-18       Unemployed      F  ...   \n",
      "2     Basic  Bachelor        2011-02-10         Employed      M  ...   \n",
      "3  Extended   College        2011-01-11         Employed      M  ...   \n",
      "4   Premium  Bachelor        2011-01-17    Medical Leave      F  ...   \n",
      "\n",
      "   number_of_policies     policy_type        policy  renew_offer_type  \\\n",
      "0                   9  Corporate Auto  Corporate L3            Offer3   \n",
      "1                   1   Personal Auto   Personal L3            Offer4   \n",
      "2                   2   Personal Auto   Personal L3            Offer3   \n",
      "3                   2  Corporate Auto  Corporate L3            Offer2   \n",
      "4                   7   Personal Auto   Personal L2            Offer1   \n",
      "\n",
      "   sales_channel  total_claim_amount  vehicle_class  vehicle_size  \\\n",
      "0          Agent          292.800000  Four-Door Car       Medsize   \n",
      "1    Call Center          744.924331  Four-Door Car       Medsize   \n",
      "2    Call Center          480.000000            SUV       Medsize   \n",
      "3         Branch          484.013411  Four-Door Car       Medsize   \n",
      "4         Branch          707.925645  Four-Door Car       Medsize   \n",
      "\n",
      "  vehicle_type month  \n",
      "0            A     2  \n",
      "1            A     1  \n",
      "2            A     2  \n",
      "3            A     1  \n",
      "4            A     1  \n",
      "\n",
      "[5 rows x 27 columns]\n",
      "<class 'pandas.core.frame.DataFrame'>\n",
      "RangeIndex: 10910 entries, 0 to 10909\n",
      "Data columns (total 27 columns):\n",
      " #   Column                         Non-Null Count  Dtype  \n",
      "---  ------                         --------------  -----  \n",
      " 0   unnamed:_0                     10910 non-null  int64  \n",
      " 1   customer                       10910 non-null  object \n",
      " 2   state                          10910 non-null  object \n",
      " 3   customer_lifetime_value        10910 non-null  float64\n",
      " 4   response                       10910 non-null  object \n",
      " 5   coverage                       10910 non-null  object \n",
      " 6   education                      10910 non-null  object \n",
      " 7   effective_to_date              10910 non-null  object \n",
      " 8   employmentstatus               10910 non-null  object \n",
      " 9   gender                         10910 non-null  object \n",
      " 10  income                         10910 non-null  int64  \n",
      " 11  location_code                  10910 non-null  object \n",
      " 12  marital_status                 10910 non-null  object \n",
      " 13  monthly_premium_auto           10910 non-null  int64  \n",
      " 14  months_since_last_claim        10910 non-null  float64\n",
      " 15  months_since_policy_inception  10910 non-null  int64  \n",
      " 16  number_of_open_complaints      10910 non-null  float64\n",
      " 17  number_of_policies             10910 non-null  int64  \n",
      " 18  policy_type                    10910 non-null  object \n",
      " 19  policy                         10910 non-null  object \n",
      " 20  renew_offer_type               10910 non-null  object \n",
      " 21  sales_channel                  10910 non-null  object \n",
      " 22  total_claim_amount             10910 non-null  float64\n",
      " 23  vehicle_class                  10910 non-null  object \n",
      " 24  vehicle_size                   10910 non-null  object \n",
      " 25  vehicle_type                   10910 non-null  object \n",
      " 26  month                          10910 non-null  int64  \n",
      "dtypes: float64(4), int64(6), object(17)\n",
      "memory usage: 2.2+ MB\n",
      "None\n",
      "         unnamed:_0  customer_lifetime_value        income  \\\n",
      "count  10910.000000             10910.000000  10910.000000   \n",
      "mean    5454.500000              8018.241094  37536.284785   \n",
      "std     3149.590053              6885.081434  30359.195670   \n",
      "min        0.000000              1898.007675      0.000000   \n",
      "25%     2727.250000              4014.453113      0.000000   \n",
      "50%     5454.500000              5771.147235  33813.500000   \n",
      "75%     8181.750000              8992.779137  62250.750000   \n",
      "max    10909.000000             83325.381190  99981.000000   \n",
      "\n",
      "       monthly_premium_auto  months_since_last_claim  \\\n",
      "count          10910.000000             10910.000000   \n",
      "mean              93.196059                15.149071   \n",
      "std               34.442532                 9.783520   \n",
      "min               61.000000                 0.000000   \n",
      "25%               68.000000                 7.000000   \n",
      "50%               83.000000                15.000000   \n",
      "75%              109.000000                23.000000   \n",
      "max              298.000000                35.000000   \n",
      "\n",
      "       months_since_policy_inception  number_of_open_complaints  \\\n",
      "count                   10910.000000               10910.000000   \n",
      "mean                       48.091934                   0.384256   \n",
      "std                        27.940675                   0.885589   \n",
      "min                         0.000000                   0.000000   \n",
      "25%                        24.000000                   0.000000   \n",
      "50%                        48.000000                   0.000000   \n",
      "75%                        71.000000                   0.384256   \n",
      "max                        99.000000                   5.000000   \n",
      "\n",
      "       number_of_policies  total_claim_amount         month  \n",
      "count        10910.000000        10910.000000  10910.000000  \n",
      "mean             2.979193          434.888330      1.466728  \n",
      "std              2.399359          292.180556      0.498915  \n",
      "min              1.000000            0.099007      1.000000  \n",
      "25%              1.000000          271.082527      1.000000  \n",
      "50%              2.000000          382.564630      1.000000  \n",
      "75%              4.000000          547.200000      2.000000  \n",
      "max              9.000000         2893.239678      2.000000  \n"
     ]
    }
   ],
   "source": [
    "# Step 2: Explore the data\n",
    "print(df.head())\n",
    "print(df.info())\n",
    "print(df.describe())\n"
   ]
  },
  {
   "cell_type": "code",
   "execution_count": 13,
   "id": "f06e5cf8",
   "metadata": {},
   "outputs": [
    {
     "name": "stdout",
     "output_type": "stream",
     "text": [
      "Index(['unnamed:_0', 'customer', 'state', 'customer_lifetime_value',\n",
      "       'response', 'coverage', 'education', 'effective_to_date',\n",
      "       'employmentstatus', 'gender', 'income', 'location_code',\n",
      "       'marital_status', 'monthly_premium_auto', 'months_since_last_claim',\n",
      "       'months_since_policy_inception', 'number_of_open_complaints',\n",
      "       'number_of_policies', 'policy_type', 'policy', 'renew_offer_type',\n",
      "       'sales_channel', 'total_claim_amount', 'vehicle_class', 'vehicle_size',\n",
      "       'vehicle_type', 'month'],\n",
      "      dtype='object')\n"
     ]
    }
   ],
   "source": [
    "# Step 3: Clean and structure the data\n",
    "# Convert column names to lowercase\n",
    "df.columns = df.columns.str.lower()\n",
    "print(df.columns)"
   ]
  },
  {
   "cell_type": "code",
   "execution_count": 14,
   "id": "ac3bfeca",
   "metadata": {},
   "outputs": [
    {
     "name": "stdout",
     "output_type": "stream",
     "text": [
      "Index(['unnamed:_0', 'customer', 'state', 'customer_lifetime_value',\n",
      "       'response', 'coverage', 'education', 'effective_to_date',\n",
      "       'employmentstatus', 'gender', 'income', 'location_code',\n",
      "       'marital_status', 'monthly_premium_auto', 'months_since_last_claim',\n",
      "       'months_since_policy_inception', 'number_of_open_complaints',\n",
      "       'number_of_policies', 'policy_type', 'policy', 'renew_offer_type',\n",
      "       'sales_channel', 'total_claim_amount', 'vehicle_class', 'vehicle_size',\n",
      "       'vehicle_type', 'month'],\n",
      "      dtype='object')\n"
     ]
    }
   ],
   "source": [
    "# Remove spaces from column names\n",
    "df.columns = df.columns.str.replace(' ', '_')\n",
    "print(df.columns)"
   ]
  },
  {
   "cell_type": "code",
   "execution_count": 15,
   "id": "128ec63d",
   "metadata": {},
   "outputs": [
    {
     "name": "stdout",
     "output_type": "stream",
     "text": [
      "Index(['state', 'customer_lifetime_value', 'response', 'coverage', 'education',\n",
      "       'effective_to_date', 'employmentstatus', 'gender', 'income',\n",
      "       'location_code', 'marital_status', 'monthly_premium_auto',\n",
      "       'months_since_last_claim', 'months_since_policy_inception',\n",
      "       'number_of_open_complaints', 'number_of_policies', 'policy_type',\n",
      "       'policy', 'renew_offer_type', 'sales_channel', 'total_claim_amount',\n",
      "       'vehicle_class', 'vehicle_size', 'vehicle_type', 'month'],\n",
      "      dtype='object')\n"
     ]
    }
   ],
   "source": [
    "# Drop unnecessary columns\n",
    "df = df.drop(columns=['unnamed:_0', 'customer'])\n",
    "print(df.columns)"
   ]
  },
  {
   "cell_type": "code",
   "execution_count": 16,
   "id": "8fe18aa1",
   "metadata": {},
   "outputs": [
    {
     "name": "stdout",
     "output_type": "stream",
     "text": [
      "<class 'pandas.core.frame.DataFrame'>\n",
      "RangeIndex: 10910 entries, 0 to 10909\n",
      "Data columns (total 25 columns):\n",
      " #   Column                         Non-Null Count  Dtype         \n",
      "---  ------                         --------------  -----         \n",
      " 0   state                          10910 non-null  object        \n",
      " 1   customer_lifetime_value        10910 non-null  float64       \n",
      " 2   response                       10910 non-null  object        \n",
      " 3   coverage                       10910 non-null  object        \n",
      " 4   education                      10910 non-null  object        \n",
      " 5   effective_to_date              10910 non-null  datetime64[ns]\n",
      " 6   employmentstatus               10910 non-null  object        \n",
      " 7   gender                         10910 non-null  object        \n",
      " 8   income                         10910 non-null  int64         \n",
      " 9   location_code                  10910 non-null  object        \n",
      " 10  marital_status                 10910 non-null  object        \n",
      " 11  monthly_premium_auto           10910 non-null  int64         \n",
      " 12  months_since_last_claim        10910 non-null  float64       \n",
      " 13  months_since_policy_inception  10910 non-null  int64         \n",
      " 14  number_of_open_complaints      10910 non-null  float64       \n",
      " 15  number_of_policies             10910 non-null  int64         \n",
      " 16  policy_type                    10910 non-null  object        \n",
      " 17  policy                         10910 non-null  object        \n",
      " 18  renew_offer_type               10910 non-null  object        \n",
      " 19  sales_channel                  10910 non-null  object        \n",
      " 20  total_claim_amount             10910 non-null  float64       \n",
      " 21  vehicle_class                  10910 non-null  object        \n",
      " 22  vehicle_size                   10910 non-null  object        \n",
      " 23  vehicle_type                   10910 non-null  object        \n",
      " 24  month                          10910 non-null  int64         \n",
      "dtypes: datetime64[ns](1), float64(4), int64(5), object(15)\n",
      "memory usage: 2.1+ MB\n",
      "None\n"
     ]
    }
   ],
   "source": [
    "# Convert column types\n",
    "df['effective_to_date'] = pd.to_datetime(df['effective_to_date'])\n",
    "print(df.info())"
   ]
  },
  {
   "cell_type": "code",
   "execution_count": 17,
   "id": "a7e5b5f5",
   "metadata": {},
   "outputs": [],
   "source": [
    "# Step 4: Save the data\n",
    "df.to_csv('marketing_customer_analysis_cleaned.csv', index=False)\n"
   ]
  },
  {
   "cell_type": "code",
   "execution_count": 18,
   "id": "1248fdcb",
   "metadata": {},
   "outputs": [],
   "source": [
    "# Step 5 (Optional): Visualize the data\n",
    "import matplotlib.pyplot as plt\n"
   ]
  },
  {
   "cell_type": "code",
   "execution_count": 19,
   "id": "26543996",
   "metadata": {},
   "outputs": [
    {
     "data": {
      "image/png": "[encoded data removed]",
      "text/plain": [
       "<Figure size 640x480 with 1 Axes>"
      ]
     },
     "metadata": {},
     "output_type": "display_data"
    }
   ],
   "source": [
    "# Plot the distribution of customer lifetime value\n",
    "plt.hist(df['customer_lifetime_value'], bins=20, color='skyblue', edgecolor='black')\n",
    "plt.xlabel('Customer Lifetime Value')\n",
    "plt.ylabel('Frequency')\n",
    "plt.title('Distribution of Customer Lifetime Value')\n",
    "plt.show()\n"
   ]
  },
  {
   "cell_type": "code",
   "execution_count": 20,
   "id": "9be28c2d",
   "metadata": {},
   "outputs": [
    {
     "data": {
      "image/png": "[encoded data removed]",
      "text/plain": [
       "<Figure size 640x480 with 1 Axes>"
      ]
     },
     "metadata": {},
     "output_type": "display_data"
    }
   ],
   "source": [
    "# Plot the distribution of total claim amount\n",
    "plt.hist(df['total_claim_amount'], bins=20, color='salmon', edgecolor='black')\n",
    "plt.xlabel('Total Claim Amount')\n",
    "plt.ylabel('Frequency')\n",
    "plt.title('Distribution of Total Claim Amount')\n",
    "plt.show()\n"
   ]
  },
  {
   "cell_type": "markdown",
   "id": "df35fd0d-513e-4e77-867e-429da10a9cc7",
   "metadata": {
    "id": "df35fd0d-513e-4e77-867e-429da10a9cc7"
   },
   "source": [
    "1. You work at the marketing department and you want to know which sales channel brought the most sales in terms of total revenue. Using pivot, create a summary table showing the total revenue for each sales channel (branch, call center, web, and mail).\n",
    "Round the total revenue to 2 decimal points.  Analyze the resulting table to draw insights."
   ]
  },
  {
   "cell_type": "markdown",
   "id": "640993b2-a291-436c-a34d-a551144f8196",
   "metadata": {
    "id": "640993b2-a291-436c-a34d-a551144f8196"
   },
   "source": [
    "2. Create a pivot table that shows the average customer lifetime value per gender and education level. Analyze the resulting table to draw insights.\n"
   ]
  },
  {
   "cell_type": "code",
   "execution_count": 21,
   "id": "7225f1db",
   "metadata": {},
   "outputs": [],
   "source": [
    "import pandas as pd"
   ]
  },
  {
   "cell_type": "code",
   "execution_count": 22,
   "id": "b730d5ad",
   "metadata": {},
   "outputs": [],
   "source": [
    "url = 'https://raw.githubusercontent.com/data-bootcamp-v4/data/main/marketing_customer_analysis_clean.csv'\n",
    "df = pd.read_csv(url)\n"
   ]
  },
  {
   "cell_type": "code",
   "execution_count": 23,
   "id": "ee2ce824",
   "metadata": {},
   "outputs": [],
   "source": [
    "# Creating the pivot table\n",
    "pivot_table = df.pivot_table(values='customer_lifetime_value', \n",
    "                             index='education', \n",
    "                             columns='gender', \n",
    "                             aggfunc='mean')"
   ]
  },
  {
   "cell_type": "code",
   "execution_count": null,
   "id": "5d63a98f",
   "metadata": {},
   "outputs": [],
   "source": []
  },
  {
   "cell_type": "code",
   "execution_count": 24,
   "id": "36addc96",
   "metadata": {},
   "outputs": [
    {
     "name": "stdout",
     "output_type": "stream",
     "text": [
      "gender                          F            M\n",
      "education                                     \n",
      "Bachelor              7874.269478  7703.601675\n",
      "College               7748.823325  8052.459288\n",
      "Doctor                7328.508916  7415.333638\n",
      "High School or Below  8675.220201  8149.687783\n",
      "Master                8157.053154  8168.832659\n"
     ]
    }
   ],
   "source": [
    "print(pivot_table)"
   ]
  },
  {
   "cell_type": "code",
   "execution_count": 25,
   "id": "9787a30c",
   "metadata": {},
   "outputs": [
    {
     "data": {
      "image/png": "[encoded data removed]",
      "text/plain": [
       "<Figure size 640x480 with 2 Axes>"
      ]
     },
     "metadata": {},
     "output_type": "display_data"
    }
   ],
   "source": [
    "import seaborn as sns\n",
    "plt.title('Average Customer Lifetime Value by Education Level')\n",
    "sns.heatmap(pivot_table, annot=True, cmap='coolwarm')\n",
    "plt.show()\n"
   ]
  },
  {
   "cell_type": "code",
   "execution_count": 26,
   "id": "cbcd47c0",
   "metadata": {},
   "outputs": [],
   "source": [
    "import pandas as pd\n",
    "        "
   ]
  },
  {
   "cell_type": "code",
   "execution_count": 27,
   "id": "30bca7c0",
   "metadata": {},
   "outputs": [],
   "source": [
    "url = 'https://raw.githubusercontent.com/data-bootcamp-v4/data/main/marketing_customer_analysis_clean.csv'\n",
    "df = pd.read_csv(url)\n",
    "    "
   ]
  },
  {
   "cell_type": "code",
   "execution_count": 28,
   "id": "527afa38",
   "metadata": {},
   "outputs": [],
   "source": [
    "# Grouping the data by vehicle class and calculating the average total claim amount\n",
    "grouped_data = df.groupby('vehicle_class')['total_claim_amount'].mean()\n",
    "    "
   ]
  },
  {
   "cell_type": "code",
   "execution_count": 29,
   "id": "9898067f",
   "metadata": {},
   "outputs": [
    {
     "name": "stdout",
     "output_type": "stream",
     "text": [
      "vehicle_class\n",
      "Four-Door Car     361.809499\n",
      "Luxury Car       1134.411834\n",
      "Luxury SUV       1081.170088\n",
      "SUV               571.995709\n",
      "Sports Car        556.916745\n",
      "Two-Door Car      348.688705\n",
      "Name: total_claim_amount, dtype: float64\n"
     ]
    }
   ],
   "source": [
    "print(grouped_data)"
   ]
  },
  {
   "cell_type": "code",
   "execution_count": null,
   "id": "7351b777",
   "metadata": {},
   "outputs": [],
   "source": [
    "import pandas as pd"
   ]
  },
  {
   "cell_type": "code",
   "execution_count": null,
   "id": "d3722e2e",
   "metadata": {},
   "outputs": [],
   "source": [
    "url = 'https://raw.githubusercontent.com/data-bootcamp-v4/data/main/marketing_customer_analysis_clean.csv'\n",
    "df = pd.read_csv(url)"
   ]
  },
  {
   "cell_type": "code",
   "execution_count": null,
   "id": "5a5c5c16",
   "metadata": {},
   "outputs": [],
   "source": []
  },
  {
   "cell_type": "markdown",
   "id": "32c7f2e5-3d90-43e5-be33-9781b6069198",
   "metadata": {
    "id": "32c7f2e5-3d90-43e5-be33-9781b6069198"
   },
   "source": [
    "## Bonus\n",
    "\n",
    "You work at the customer service department and you want to know which months had the highest number of complaints by policy type category. Create a summary table showing the number of complaints by policy type and month.\n",
    "Show it in a long format table.\n",
    "# "
   ]
  },
  {
   "cell_type": "markdown",
   "id": "e3d09a8f-953c-448a-a5f8-2e5a8cca7291",
   "metadata": {
    "id": "e3d09a8f-953c-448a-a5f8-2e5a8cca7291"
   },
   "source": [
    "*In data analysis, a long format table is a way of structuring data in which each observation or measurement is stored in a separate row of the table. The key characteristic of a long format table is that each column represents a single variable, and each row represents a single observation of that variable.*\n",
    "\n",
    "*More information about long and wide format tables here: https://www.statology.org/long-vs-wide-data/*"
   ]
  },
  {
   "cell_type": "code",
   "execution_count": 36,
   "id": "3a069e0b-b400-470e-904d-d17582191be4",
   "metadata": {
    "id": "3a069e0b-b400-470e-904d-d17582191be4"
   },
   "outputs": [
    {
     "name": "stdout",
     "output_type": "stream",
     "text": [
      "   month     policy_type  number_of_open_complaints\n",
      "0      1  Corporate Auto                 443.434952\n",
      "1      1   Personal Auto                1727.605722\n",
      "2      1    Special Auto                  87.074049\n",
      "3      2  Corporate Auto                 385.208135\n",
      "4      2   Personal Auto                1453.684441\n",
      "5      2    Special Auto                  95.226817\n"
     ]
    }
   ],
   "source": [
    "# You work at the customer service department and you want to know which months had the highest number of complaints by policy type category. Create a summary table showing the number of complaints by policy type and month.\n",
    "# Show it in a long format table.\n",
    "\n",
    "# Step 1: Extract the month from the effective_to_date column\n",
    "df['effective_to_date'] = pd.to_datetime(df['effective_to_date'])\n",
    "df['month'] = df['effective_to_date'].dt.month\n",
    "\n",
    "# Check if 'number_of_complaints' column exists in the DataFrame\n",
    "if 'number_of_open_complaints' in df.columns:\n",
    "    grouped_data = df.groupby(['month', 'policy_type'])['number_of_open_complaints'].sum().reset_index()\n",
    "    print(grouped_data)\n",
    "else:\n",
    "    print(\"Column 'number_of_open_complaints' not found in the DataFrame.\")\n",
    "\n",
    "\n",
    "\n"
   ]
  }
 ],
 "metadata": {
  "colab": {
   "provenance": []
  },
  "kernelspec": {
   "display_name": "Python 3 (ipykernel)",
   "language": "python",
   "name": "python3"
  },
  "language_info": {
   "codemirror_mode": {
    "name": "ipython",
    "version": 3
   },
   "file_extension": ".py",
   "mimetype": "text/x-python",
   "name": "python",
   "nbconvert_exporter": "python",
   "pygments_lexer": "ipython3",
   "version": "3.11.9"
  }
 },
 "nbformat": 4,
 "nbformat_minor": 5
}
